{
 "cells": [
  {
   "cell_type": "markdown",
   "metadata": {},
   "source": [
    "## Basic \"Stub\" Data prototype\n",
    "\n",
    "I was thinking it might be a good exersize if I create some random temperature data in \"long\" format to prototype a basic heatmap figure based on Hig'g mockup.\n",
    "\n",
    "- X: Weeks\n",
    "- y: Years\n"
   ]
  },
  {
   "cell_type": "markdown",
   "metadata": {},
   "source": [
    "### Generate Random Data"
   ]
  },
  {
   "cell_type": "code",
   "execution_count": 47,
   "metadata": {},
   "outputs": [],
   "source": [
    "%matplotlib inline"
   ]
  },
  {
   "cell_type": "code",
   "execution_count": 52,
   "metadata": {},
   "outputs": [
    {
     "data": {
      "text/html": [
       "<div>\n",
       "<style scoped>\n",
       "    .dataframe tbody tr th:only-of-type {\n",
       "        vertical-align: middle;\n",
       "    }\n",
       "\n",
       "    .dataframe tbody tr th {\n",
       "        vertical-align: top;\n",
       "    }\n",
       "\n",
       "    .dataframe thead th {\n",
       "        text-align: right;\n",
       "    }\n",
       "</style>\n",
       "<table border=\"1\" class=\"dataframe\">\n",
       "  <thead>\n",
       "    <tr style=\"text-align: right;\">\n",
       "      <th></th>\n",
       "      <th>year</th>\n",
       "      <th>week</th>\n",
       "      <th>temp</th>\n",
       "    </tr>\n",
       "  </thead>\n",
       "  <tbody>\n",
       "    <tr>\n",
       "      <td>0</td>\n",
       "      <td>1980</td>\n",
       "      <td>1</td>\n",
       "      <td>64.53</td>\n",
       "    </tr>\n",
       "    <tr>\n",
       "      <td>1</td>\n",
       "      <td>1980</td>\n",
       "      <td>2</td>\n",
       "      <td>87.43</td>\n",
       "    </tr>\n",
       "    <tr>\n",
       "      <td>2</td>\n",
       "      <td>1980</td>\n",
       "      <td>3</td>\n",
       "      <td>36.63</td>\n",
       "    </tr>\n",
       "    <tr>\n",
       "      <td>3</td>\n",
       "      <td>1980</td>\n",
       "      <td>4</td>\n",
       "      <td>78.20</td>\n",
       "    </tr>\n",
       "    <tr>\n",
       "      <td>4</td>\n",
       "      <td>1980</td>\n",
       "      <td>5</td>\n",
       "      <td>83.60</td>\n",
       "    </tr>\n",
       "  </tbody>\n",
       "</table>\n",
       "</div>"
      ],
      "text/plain": [
       "   year  week   temp\n",
       "0  1980     1  64.53\n",
       "1  1980     2  87.43\n",
       "2  1980     3  36.63\n",
       "3  1980     4  78.20\n",
       "4  1980     5  83.60"
      ]
     },
     "execution_count": 52,
     "metadata": {},
     "output_type": "execute_result"
    }
   ],
   "source": [
    "import numpy as np, pandas as pd, seaborn as sns\n",
    "import matplotlib.pyplot as plt\n",
    "\n",
    "stub_data = [{\n",
    "    \"year\": year,\n",
    "    \"week\": week,\n",
    "    \"temp\": round(np.random.normal(loc = 65, scale = 20), 2)\n",
    "    }\n",
    "    for year in range(1980, 2021)\n",
    "    for week in range(1, 53)\n",
    "]\n",
    "df = pd.DataFrame(stub_data)\n",
    "df.head()"
   ]
  },
  {
   "cell_type": "markdown",
   "metadata": {},
   "source": [
    "## Pivot Data\n",
    "\n",
    "From here, research how to pivot your data (the DataFrame `df` defined above) so that the index becomes \"year\" and columns become \"week\", and then \"temp\" become values.\n",
    "\n",
    "- Check out \"pivot\" features in Pandas\n",
    "- Possibly check out how to \"set index\" of a Pandas DataFrame, but I believe you should be able to set the inded with the pivot features so that \"year\" becomes the index, and all values are temperature.\n",
    "\n",
    "This should create a matrix / dataframe that looks like:\n",
    "\n",
    "|-| 1 | 2 | 3 | 4 | 5 | 6 | 7 | ... | 50 | 51 | 52 |\n",
    "|--|--|--|--|--|--|--|--|--|--|--|--|\n",
    "|1980|.123|.123|.123|.123|.123|.123|.123|.123|.123|.123|.123|\n",
    "|1981|.123|.123|.123|.123|.123|.123|.123|.123|.123|.123|.123|\n",
    "|1982|.123|.123|.123|.123|.123|.123|.123|.123|.123|.123|.123|\n",
    "|1983|.123|.123|.123|.123|.123|.123|.123|.123|.123|.123|.123|\n",
    "|...|...|...|...|...|...|...|...|...|...|...|...|\n",
    "|2018|.123|.123|.123|.123|.123|.123|.123|.123|.123|.123|.123|\n",
    "|2019|.123|.123|.123|.123|.123|.123|.123|.123|.123|.123|.123|\n",
    "|2020|.123|.123|.123|.123|.123|.123|.123|.123|.123|.123|.123|"
   ]
  },
  {
   "cell_type": "code",
   "execution_count": 56,
   "metadata": {},
   "outputs": [
    {
     "data": {
      "text/html": [
       "<div>\n",
       "<style scoped>\n",
       "    .dataframe tbody tr th:only-of-type {\n",
       "        vertical-align: middle;\n",
       "    }\n",
       "\n",
       "    .dataframe tbody tr th {\n",
       "        vertical-align: top;\n",
       "    }\n",
       "\n",
       "    .dataframe thead th {\n",
       "        text-align: right;\n",
       "    }\n",
       "</style>\n",
       "<table border=\"1\" class=\"dataframe\">\n",
       "  <thead>\n",
       "    <tr style=\"text-align: right;\">\n",
       "      <th></th>\n",
       "      <th>year</th>\n",
       "      <th>week</th>\n",
       "      <th>temp</th>\n",
       "    </tr>\n",
       "  </thead>\n",
       "  <tbody>\n",
       "    <tr>\n",
       "      <td>0</td>\n",
       "      <td>1980</td>\n",
       "      <td>1</td>\n",
       "      <td>64.53</td>\n",
       "    </tr>\n",
       "    <tr>\n",
       "      <td>1</td>\n",
       "      <td>1980</td>\n",
       "      <td>2</td>\n",
       "      <td>87.43</td>\n",
       "    </tr>\n",
       "    <tr>\n",
       "      <td>2</td>\n",
       "      <td>1980</td>\n",
       "      <td>3</td>\n",
       "      <td>36.63</td>\n",
       "    </tr>\n",
       "    <tr>\n",
       "      <td>3</td>\n",
       "      <td>1980</td>\n",
       "      <td>4</td>\n",
       "      <td>78.20</td>\n",
       "    </tr>\n",
       "    <tr>\n",
       "      <td>4</td>\n",
       "      <td>1980</td>\n",
       "      <td>5</td>\n",
       "      <td>83.60</td>\n",
       "    </tr>\n",
       "    <tr>\n",
       "      <td>...</td>\n",
       "      <td>...</td>\n",
       "      <td>...</td>\n",
       "      <td>...</td>\n",
       "    </tr>\n",
       "    <tr>\n",
       "      <td>2127</td>\n",
       "      <td>2020</td>\n",
       "      <td>48</td>\n",
       "      <td>33.65</td>\n",
       "    </tr>\n",
       "    <tr>\n",
       "      <td>2128</td>\n",
       "      <td>2020</td>\n",
       "      <td>49</td>\n",
       "      <td>48.67</td>\n",
       "    </tr>\n",
       "    <tr>\n",
       "      <td>2129</td>\n",
       "      <td>2020</td>\n",
       "      <td>50</td>\n",
       "      <td>95.07</td>\n",
       "    </tr>\n",
       "    <tr>\n",
       "      <td>2130</td>\n",
       "      <td>2020</td>\n",
       "      <td>51</td>\n",
       "      <td>97.82</td>\n",
       "    </tr>\n",
       "    <tr>\n",
       "      <td>2131</td>\n",
       "      <td>2020</td>\n",
       "      <td>52</td>\n",
       "      <td>67.53</td>\n",
       "    </tr>\n",
       "  </tbody>\n",
       "</table>\n",
       "<p>2132 rows × 3 columns</p>\n",
       "</div>"
      ],
      "text/plain": [
       "      year  week   temp\n",
       "0     1980     1  64.53\n",
       "1     1980     2  87.43\n",
       "2     1980     3  36.63\n",
       "3     1980     4  78.20\n",
       "4     1980     5  83.60\n",
       "...    ...   ...    ...\n",
       "2127  2020    48  33.65\n",
       "2128  2020    49  48.67\n",
       "2129  2020    50  95.07\n",
       "2130  2020    51  97.82\n",
       "2131  2020    52  67.53\n",
       "\n",
       "[2132 rows x 3 columns]"
      ]
     },
     "execution_count": 56,
     "metadata": {},
     "output_type": "execute_result"
    }
   ],
   "source": [
    "## Try it out here\n",
    "df"
   ]
  },
  {
   "cell_type": "markdown",
   "metadata": {},
   "source": [
    "## Plot results with Seaborn\n",
    "\n",
    "As long as your dataframe is all values (columns and rows are all floats of a common type) within a reasonable unit, you can pass it to Seaborn to plot a heatmap.\n",
    "\n",
    "[Seaborn: Heatmap docs](https://seaborn.pydata.org/generated/seaborn.heatmap.html)"
   ]
  },
  {
   "cell_type": "code",
   "execution_count": 55,
   "metadata": {},
   "outputs": [
    {
     "data": {
      "text/plain": [
       "<matplotlib.axes._subplots.AxesSubplot at 0x1a2908dd10>"
      ]
     },
     "execution_count": 55,
     "metadata": {},
     "output_type": "execute_result"
    },
    {
     "data": {
      "image/png": "[encoded data removed]",
      "text/plain": [
       "<Figure size 720x360 with 2 Axes>"
      ]
     },
     "metadata": {
      "needs_background": "light"
     },
     "output_type": "display_data"
    }
   ],
   "source": [
    "# matplotlib figure can control basic aesthetics like height and width\n",
    "fig = plt.figure(figsize = (10, 5))\n",
    "\n",
    "# Random dataset\n",
    "uniform_data = np.random.rand(10, 12)\n",
    "\n",
    "# Basic heatmap function -- input can be a numpy array or a Pandas DataFrame\n",
    "sns.heatmap(uniform_data)"
   ]
  },
  {
   "cell_type": "code",
   "execution_count": null,
   "metadata": {},
   "outputs": [],
   "source": []
  }
 ],
 "metadata": {
  "kernelspec": {
   "display_name": "Python 3",
   "language": "python",
   "name": "python3"
  },
  "language_info": {
   "codemirror_mode": {
    "name": "ipython",
    "version": 3
   },
   "file_extension": ".py",
   "mimetype": "text/x-python",
   "name": "python",
   "nbconvert_exporter": "python",
   "pygments_lexer": "ipython3",
   "version": "3.7.4"
  }
 },
 "nbformat": 4,
 "nbformat_minor": 4
}
