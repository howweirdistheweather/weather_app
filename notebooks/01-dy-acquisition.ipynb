{
 "cells": [
  {
   "cell_type": "markdown",
   "metadata": {},
   "source": [
    "# HWTW Data Acquisition Notebook\n",
    "author(s):  David Yerrington (david@yerrington.net), Hig (hig314@gmail.com)\n",
    "\n",
    "\n",
    "This notebook will contain a clean process in which to import data in which we can use to prototype with."
   ]
  },
  {
   "cell_type": "code",
   "execution_count": 2,
   "metadata": {},
   "outputs": [],
   "source": [
    "import pandas as pd, numpy as np\n",
    "import matplotlib.pyplot as plt\n",
    "\n",
    "%matplotlib inline"
   ]
  },
  {
   "cell_type": "markdown",
   "metadata": {},
   "source": [
    "## Basic Data Loading\n",
    "\n",
    "Looks like our intial csv based on the \"short\" sample can be loaded simply with pandas without much trouble.  The data does appear to be somewhat improperly typed and the column headers can be updated from Hig's original code."
   ]
  },
  {
   "cell_type": "code",
   "execution_count": 9,
   "metadata": {},
   "outputs": [
    {
     "name": "stdout",
     "output_type": "stream",
     "text": [
      "<class 'pandas.core.frame.DataFrame'>\n",
      "RangeIndex: 38214 entries, 0 to 38213\n",
      "Data columns (total 25 columns):\n",
      " % Relative Humidity      38214 non-null object\n",
      " Dew Point Temp           38214 non-null object\n",
      " Dry Bulb Temp            38214 non-null object\n",
      " Maintenance Indicator    38214 non-null object\n",
      " Precip. Total            38214 non-null object\n",
      " Pressure Tendency        38214 non-null object\n",
      " Record Type              38214 non-null object\n",
      " Sea Level Pressure       38214 non-null object\n",
      " Sky Conditions           38214 non-null object\n",
      " Station Pressure         38214 non-null object\n",
      " Station Type             38214 non-null object\n",
      " Time                     38214 non-null int64\n",
      " Val for Wind Char.       38214 non-null object\n",
      " Visibility               38214 non-null object\n",
      " Weather Type             38214 non-null object\n",
      " Wet Bulb Temp            38214 non-null object\n",
      " Wind Char. Gusts (kt)    38214 non-null object\n",
      " Wind Direction           38214 non-null object\n",
      " Wind Speed (kt)          38214 non-null object\n",
      " YearMonthDay             38214 non-null int64\n",
      "Wban Number               38214 non-null int64\n",
      "ceiling_ft                38204 non-null float64\n",
      "datetime                  38214 non-null object\n",
      "raw_sky_code              38214 non-null object\n",
      "vis_miles                 38208 non-null float64\n",
      "dtypes: float64(2), int64(3), object(20)\n",
      "memory usage: 7.3+ MB\n"
     ]
    }
   ],
   "source": [
    "df = pd.read_csv(\"../data/external/25339_short.csv\", low_memory=False)\n",
    "df.info()"
   ]
  },
  {
   "cell_type": "code",
   "execution_count": null,
   "metadata": {},
   "outputs": [],
   "source": []
  }
 ],
 "metadata": {
  "kernelspec": {
   "display_name": "Python 3",
   "language": "python",
   "name": "python3"
  },
  "language_info": {
   "codemirror_mode": {
    "name": "ipython",
    "version": 3
   },
   "file_extension": ".py",
   "mimetype": "text/x-python",
   "name": "python",
   "nbconvert_exporter": "python",
   "pygments_lexer": "ipython3",
   "version": "3.7.4"
  }
 },
 "nbformat": 4,
 "nbformat_minor": 4
}
